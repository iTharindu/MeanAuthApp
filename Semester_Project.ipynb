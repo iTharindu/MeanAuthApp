{
  "nbformat": 4,
  "nbformat_minor": 0,
  "metadata": {
    "colab": {
      "name": "Semester_Project.ipynb",
      "version": "0.3.2",
      "provenance": [],
      "collapsed_sections": [],
      "include_colab_link": true
    },
    "kernelspec": {
      "name": "python3",
      "display_name": "Python 3"
    }
  },
  "cells": [
    {
      "cell_type": "markdown",
      "metadata": {
        "id": "view-in-github",
        "colab_type": "text"
      },
      "source": [
        "<a href=\"https://colab.research.google.com/github/iTharindu/MeanAuthApp/blob/master/Semester_Project.ipynb\" target=\"_parent\"><img src=\"https://colab.research.google.com/assets/colab-badge.svg\" alt=\"Open In Colab\"/></a>"
      ]
    },
    {
      "metadata": {
        "id": "Xwe6aHmw5b4j",
        "colab_type": "code",
        "outputId": "ed971780-cf8b-4774-d787-a3d5105075c4",
        "colab": {
          "base_uri": "https://localhost:8080/",
          "height": 50
        }
      },
      "cell_type": "code",
      "source": [
        "!pip install biopython"
      ],
      "execution_count": 0,
      "outputs": [
        {
          "output_type": "stream",
          "text": [
            "Requirement already satisfied: biopython in /usr/local/lib/python3.6/dist-packages (1.73)\n",
            "Requirement already satisfied: numpy in /usr/local/lib/python3.6/dist-packages (from biopython) (1.14.6)\n"
          ],
          "name": "stdout"
        }
      ]
    },
    {
      "metadata": {
        "id": "ZmPmxUlP6C4U",
        "colab_type": "code",
        "colab": {}
      },
      "cell_type": "code",
      "source": [
        "from Bio import Phylo\n",
        "from Bio.Phylo.TreeConstruction import DistanceCalculator\n",
        "from Bio.Phylo.TreeConstruction import ParsimonyTreeConstructor\n",
        "from Bio.Phylo.TreeConstruction import DistanceTreeConstructor\n",
        "from Bio.Phylo.TreeConstruction import ParsimonyScorer\n",
        "from Bio import AlignIO"
      ],
      "execution_count": 0,
      "outputs": []
    },
    {
      "metadata": {
        "id": "xMUT8EpF9yem",
        "colab_type": "code",
        "outputId": "13fef2a6-0df9-4398-d00f-d24417d4de00",
        "colab": {
          "base_uri": "https://localhost:8080/",
          "height": 34
        }
      },
      "cell_type": "code",
      "source": [
        "drive.mount('/content/drive')"
      ],
      "execution_count": 0,
      "outputs": [
        {
          "output_type": "stream",
          "text": [
            "Drive already mounted at /content/drive; to attempt to forcibly remount, call drive.mount(\"/content/drive\", force_remount=True).\n"
          ],
          "name": "stdout"
        }
      ]
    },
    {
      "metadata": {
        "id": "VA4Wt15M91vu",
        "colab_type": "code",
        "colab": {}
      },
      "cell_type": "code",
      "source": [
        "aln = AlignIO.read('/content/drive/My Drive/msa.phy', 'phylip')"
      ],
      "execution_count": 0,
      "outputs": []
    },
    {
      "metadata": {
        "id": "hVXohWjq-bAX",
        "colab_type": "code",
        "outputId": "dd7b1171-d0ba-42d6-fb90-709927d98c53",
        "colab": {
          "base_uri": "https://localhost:8080/",
          "height": 831
        }
      },
      "cell_type": "code",
      "source": [
        "\n",
        "print (aln)\n",
        "\n",
        "# Calculate the distance matrix\n",
        "calculator = DistanceCalculator('identity')\n",
        "dm = calculator.get_distance(aln)\n",
        "\n",
        "# Print the distance Matrix\n",
        "print('\\nDistance Matrix\\n===================')\n",
        "print(dm)\n",
        "\n",
        "# Construct the phylogenetic tree using UPGMA algorithm\n",
        "constructor = DistanceTreeConstructor()\n",
        "tree = constructor.upgma(dm)\n",
        "\n",
        "# Draw the phylogenetic tree\n",
        "Phylo.draw(tree)\n",
        "\n",
        "# Print the phylogenetic tree in the terminal\n",
        "print('\\nPhylogenetic Tree\\n===================')\n",
        "Phylo.draw_ascii(tree)\n"
      ],
      "execution_count": 0,
      "outputs": [
        {
          "output_type": "stream",
          "text": [
            "SingleLetterAlphabet() alignment with 5 rows and 13 columns\n",
            "AACGTGGCCACAT Alpha\n",
            "AAGGTCGCCACAC Beta\n",
            "GAGATTTCCGCCT Delta\n",
            "GAGATCTCCGCCC Epsilon\n",
            "CAGTTCGCCACAA Gamma\n",
            "\n",
            "Distance Matrix\n",
            "===================\n",
            "Alpha\t0\n",
            "Beta\t0.23076923076923073\t0\n",
            "Delta\t0.5384615384615384\t0.5384615384615384\t0\n",
            "Epsilon\t0.6153846153846154\t0.3846153846153846\t0.15384615384615385\t0\n",
            "Gamma\t0.3846153846153846\t0.23076923076923073\t0.5384615384615384\t0.46153846153846156\t0\n",
            "\tAlpha\tBeta\tDelta\tEpsilon\tGamma\n"
          ],
          "name": "stdout"
        },
        {
          "output_type": "display_data",
          "data": {
            "image/png": "[encoded data removed]",
            "text/plain": [
              "<Figure size 576x396 with 1 Axes>"
            ]
          },
          "metadata": {
            "tags": []
          }
        },
        {
          "output_type": "stream",
          "text": [
            "\n",
            "Phylogenetic Tree\n",
            "===================\n",
            "                                                  ____________________ Epsilon\n",
            "  _______________________________________________|\n",
            " |                                               |____________________ Delta\n",
            "_|\n",
            " |                                      ______________________________ Gamma\n",
            " |                            _________|\n",
            " |___________________________|         |______________________________ Beta\n",
            "                             |\n",
            "                             |________________________________________ Alpha\n",
            "\n"
          ],
          "name": "stdout"
        }
      ]
    },
    {
      "metadata": {
        "colab_type": "code",
        "id": "xPHUBW2JAyg7",
        "outputId": "9a710e54-13a9-4205-b812-4c4fbf5f3590",
        "colab": {
          "base_uri": "https://localhost:8080/",
          "height": 831
        }
      },
      "cell_type": "code",
      "source": [
        "print(aln)\n",
        "\n",
        "# Calculate the distance matrix\n",
        "calculator = DistanceCalculator('identity')\n",
        "dm = calculator.get_distance(aln)\n",
        "\n",
        "# Print the distance Matrix\n",
        "print('\\nDistance Matrix\\n===================')\n",
        "print(dm)\n",
        "\n",
        "# Construct the phylogenetic tree using UPGMA algorithm\n",
        "scorer = ParsimonyScorer()\n",
        "searcher = NNITreeSearcher(scorer)\n",
        "constructor = ParsimonyTreeConstructor(searcher)\n",
        "constructor.build_tree(aln)\n",
        "\n",
        "# Draw the phylogenetic tree\n",
        "Phylo.draw(tree)\n",
        "\n",
        "# Print the phylogenetic tree in the terminal\n",
        "print('\\nPhylogenetic Tree\\n===================')\n",
        "Phylo.draw_ascii(tree)"
      ],
      "execution_count": 0,
      "outputs": [
        {
          "output_type": "stream",
          "text": [
            "SingleLetterAlphabet() alignment with 5 rows and 13 columns\n",
            "AACGTGGCCACAT Alpha\n",
            "AAGGTCGCCACAC Beta\n",
            "GAGATTTCCGCCT Delta\n",
            "GAGATCTCCGCCC Epsilon\n",
            "CAGTTCGCCACAA Gamma\n",
            "\n",
            "Distance Matrix\n",
            "===================\n",
            "Alpha\t0\n",
            "Beta\t0.23076923076923073\t0\n",
            "Delta\t0.5384615384615384\t0.5384615384615384\t0\n",
            "Epsilon\t0.6153846153846154\t0.3846153846153846\t0.15384615384615385\t0\n",
            "Gamma\t0.3846153846153846\t0.23076923076923073\t0.5384615384615384\t0.46153846153846156\t0\n",
            "\tAlpha\tBeta\tDelta\tEpsilon\tGamma\n"
          ],
          "name": "stdout"
        },
        {
          "output_type": "display_data",
          "data": {
            "image/png": "[encoded data removed]",
            "text/plain": [
              "<Figure size 576x396 with 1 Axes>"
            ]
          },
          "metadata": {
            "tags": []
          }
        },
        {
          "output_type": "stream",
          "text": [
            "\n",
            "Phylogenetic Tree\n",
            "===================\n",
            "                                                  ____________________ Epsilon\n",
            "  _______________________________________________|\n",
            " |                                               |____________________ Delta\n",
            "_|\n",
            " |                                      ______________________________ Gamma\n",
            " |                            _________|\n",
            " |___________________________|         |______________________________ Beta\n",
            "                             |\n",
            "                             |________________________________________ Alpha\n",
            "\n"
          ],
          "name": "stdout"
        }
      ]
    },
    {
      "metadata": {
        "id": "9c90N9v-mbXl",
        "colab_type": "code",
        "colab": {}
      },
      "cell_type": "code",
      "source": [
        ""
      ],
      "execution_count": 0,
      "outputs": []
    }
  ]
}